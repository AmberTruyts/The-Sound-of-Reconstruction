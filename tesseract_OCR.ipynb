{
 "cells": [
  {
   "cell_type": "markdown",
   "metadata": {},
   "source": [
    "# Tesseract OCR"
   ]
  },
  {
   "cell_type": "markdown",
   "metadata": {},
   "source": [
    "This notebook is provided by Sara Budts to convert images to text. This was used to do an analysis of the different themes in popular productions after the Second World War (1946-1963)."
   ]
  },
  {
   "cell_type": "code",
   "execution_count": 1,
   "metadata": {},
   "outputs": [
    {
     "name": "stdout",
     "output_type": "stream",
     "text": [
      "Requirement already satisfied: Image in /opt/anaconda3/lib/python3.9/site-packages (1.5.33)\n",
      "Requirement already satisfied: django in /opt/anaconda3/lib/python3.9/site-packages (from Image) (4.2.20)\n",
      "Requirement already satisfied: six in /opt/anaconda3/lib/python3.9/site-packages (from Image) (1.16.0)\n",
      "Requirement already satisfied: pillow in /opt/anaconda3/lib/python3.9/site-packages (from Image) (9.2.0)\n",
      "Requirement already satisfied: sqlparse>=0.3.1 in /opt/anaconda3/lib/python3.9/site-packages (from django->Image) (0.5.3)\n",
      "Requirement already satisfied: asgiref<4,>=3.6.0 in /opt/anaconda3/lib/python3.9/site-packages (from django->Image) (3.8.1)\n",
      "Requirement already satisfied: typing-extensions>=4 in /opt/anaconda3/lib/python3.9/site-packages (from asgiref<4,>=3.6.0->django->Image) (4.12.1)\n",
      "Requirement already satisfied: pytesseract in /opt/anaconda3/lib/python3.9/site-packages (0.3.13)\n",
      "Requirement already satisfied: Pillow>=8.0.0 in /opt/anaconda3/lib/python3.9/site-packages (from pytesseract) (9.2.0)\n",
      "Requirement already satisfied: packaging>=21.3 in /opt/anaconda3/lib/python3.9/site-packages (from pytesseract) (21.3)\n",
      "Requirement already satisfied: pyparsing!=3.0.5,>=2.0.2 in /opt/anaconda3/lib/python3.9/site-packages (from packaging>=21.3->pytesseract) (3.0.9)\n"
     ]
    }
   ],
   "source": [
    "!pip install Image\n",
    "!pip install pytesseract"
   ]
  },
  {
   "cell_type": "code",
   "execution_count": 2,
   "metadata": {},
   "outputs": [],
   "source": [
    "try:\n",
    "    import Image\n",
    "except ImportError:\n",
    "    from PIL import Image\n",
    "import pytesseract\n"
   ]
  },
  {
   "cell_type": "code",
   "execution_count": 3,
   "metadata": {},
   "outputs": [],
   "source": [
    "pytesseract.pytesseract.tesseract_cmd = \"/opt/homebrew/bin/tesseract\"\n"
   ]
  },
  {
   "cell_type": "code",
   "execution_count": 4,
   "metadata": {},
   "outputs": [
    {
     "name": "stdout",
     "output_type": "stream",
     "text": [
      "['afr', 'amh', 'ara', 'asm', 'aze', 'aze_cyrl', 'bel', 'ben', 'bod', 'bos', 'bre', 'bul', 'cat', 'ceb', 'ces', 'chi_sim', 'chi_sim_vert', 'chi_tra', 'chi_tra_vert', 'chr', 'cos', 'cym', 'dan', 'deu', 'div', 'dzo', 'ell', 'eng', 'enm', 'epo', 'equ', 'est', 'eus', 'fao', 'fas', 'fil', 'fin', 'fra', 'frk', 'frm', 'fry', 'gla', 'gle', 'glg', 'grc', 'guj', 'hat', 'heb', 'hin', 'hrv', 'hun', 'hye', 'iku', 'ind', 'isl', 'ita', 'ita_old', 'jav', 'jpn', 'jpn_vert', 'kan', 'kat', 'kat_old', 'kaz', 'khm', 'kir', 'kmr', 'kor', 'kor_vert', 'lao', 'lat', 'lav', 'lit', 'ltz', 'mal', 'mar', 'mkd', 'mlt', 'mon', 'mri', 'msa', 'mya', 'nep', 'nld', 'nor', 'oci', 'ori', 'osd', 'pan', 'pol', 'por', 'pus', 'que', 'ron', 'rus', 'san', 'sin', 'slk', 'slv', 'snd', 'snum', 'spa', 'spa_old', 'sqi', 'srp', 'srp_latn', 'sun', 'swa', 'swe', 'syr', 'tam', 'tat', 'tel', 'tgk', 'tha', 'tir', 'ton', 'tur', 'uig', 'ukr', 'urd', 'uzb', 'uzb_cyrl', 'vie', 'yid', 'yor']\n"
     ]
    }
   ],
   "source": [
    "# Looking at language options\n",
    "print(pytesseract.get_languages(config=''))\n"
   ]
  },
  {
   "cell_type": "code",
   "execution_count": 5,
   "metadata": {},
   "outputs": [
    {
     "name": "stdout",
     "output_type": "stream",
     "text": [
      "INHOUDSOPGAVE\n",
      "\n",
      "Eerste tafereel. — De Hogepriester Ramfis deelt Radames mede\n",
      "dat de verslagen Ethiopiërs opnieuw bedreigen. Radames hoopt\n",
      "dat hij als aanvoerder tegen de invallers zal mogen optrekken, wat\n",
      "hem moet mogelijk maken nieuwe lauweren te vergaren, ze aan\n",
      "de voeten van zijn aangebeden Aïda te leggen en haar hand te\n",
      "vragen, alhoewel zij de slavin is van Amneris, de koningsdochter.\n",
      "Amneris is jaloers, maar veinst genegenheid voor Aïda. De hof-\n",
      "houding komt samen om de beslissing van de goden te horen en\n",
      "em te vernemen dat Radames het leger zal leiden.\n",
      "\n",
      "Tweede tafereel. — De tempel van Vulcanus te Memtfis. Bij\n",
      "gezang en rituele dansen ontvangt Radames de gewijde wapens uit\n",
      "de handen van de priesters.\n",
      "\n",
      "| _@ Derde tafereel. — Radames trekt ten strijde tegen de Ethiopiers.\n",
      "Tijdens zijn afwezigheid wist de jaloerse Amneris door een list het\n",
      "geheim van Aïda uit te lokken. Om haar mededingster te verne-\n",
      "deren verplicht zij haar, als slavin, naar het zegefeest te volgen. De\n",
      "zegevierende Radames wordt door de koning ontvangen. Onder\n",
      "de gevangenen die hij met zich voert, ontdekt Aïda haar vader.\n",
      "Zij begroet hem maar verzwijgt zijn stand. Amonasro smeekt de\n",
      "koning or genade. Radames steunt de bede, die door de koning\n",
      "ingewilligd wordt, op voorwaarde dat Amonasro en Aïda als\n",
      "gijzelaars gevangen blijven. Uit dankbaarheid voor de overwin-\n",
      "ning schenkt de koning Radames de hand van zijn dochter.\n",
      "\n",
      "Vierde tafereel. — De oevers van de Nijl. Amonasro maakt\n",
      "het zijn dochter duidelijk, hoe zij haar mededingster kan verslaan\n",
      "vrijheid veroveren. Zij moet van Radames trachten te\n",
      "\n",
      "9) Hinne langswaar het leger zal oprukken. Uit liefde voor haar volk\n",
      "“ Ë zij toe. Amonasro verbergt zich. Als Radames verschijnt\n",
      "aakt Amonasro zich bekend, ook Amneris verschijnt. Zij beschul-\n",
      "\n",
      ") an Radames van verraad. Hlij wordt gevangen genomen, terwijl\n",
      "lda en haar vader ontvluchten.\n",
      "\n",
      "ravin ge \\fde tafereel. —- Ämneris wil Radames redden, op voorwaar-\n",
      "a at hij van Aïda afziet, maar hij weigert en gaat zijn lot tege-\n",
      "st. De rechters veroordelen hem om levend begraven te worden.\n",
      "\n",
      "Pan tafereel. — Aïda, die zich reeds toegang tot de kerker\n",
      "tempel \"Pdntlen, zal samen met Radames sterven, terwijl in de\n",
      "worden oven hen, hymnen weerklinken en de gewijde dansen\n",
      "ken a Uitgevoerd. Amneris, in rouw gehuld, bidt voor de ziel van\n",
      "\n",
      "na).\n",
      "\n",
      "\n"
     ]
    }
   ],
   "source": [
    "# Checking to make sure it processes, example\n",
    "print(pytesseract.image_to_string(Image.open(\"scans/aida.jpg\"),lang=\"nld\"))"
   ]
  },
  {
   "cell_type": "code",
   "execution_count": 39,
   "metadata": {},
   "outputs": [
    {
     "name": "stdout",
     "output_type": "stream",
     "text": [
      "Processed vertellingen2.jpg -> vertellingen2.txt\n",
      "Processed lohengrin1.jpg -> lohengrin1.txt\n",
      "Processed driemeisjeshuis1.jpg -> driemeisjeshuis1.txt\n",
      "Processed vledermuis.jpg -> vledermuis.txt\n",
      "Processed viooltjes.jpg -> viooltjes.txt\n",
      "Processed lohengrin2.jpg -> lohengrin2.txt\n",
      "Processed vertellingen1.jpg -> vertellingen1.txt\n",
      "Processed driemeisjeshuis2.jpg -> driemeisjeshuis2.txt\n",
      "Processed othello.jpg -> othello.txt\n",
      "Processed tannhauser.jpg -> tannhauser.txt\n",
      "Processed aida.jpg -> aida.txt\n",
      "Processed traviata.jpg -> traviata.txt\n",
      "Processed rozenkavalier1.jpg -> rozenkavalier1.txt\n",
      "Processed rozenkavalier2.jpg -> rozenkavalier2.txt\n",
      "Processed zigeunerbaron1.jpg -> zigeunerbaron1.txt\n",
      "Processed barbier.jpg -> barbier.txt\n",
      "Processed butterfly.jpg -> butterfly.txt\n",
      "Processed zigeunerbaron2.jpg -> zigeunerbaron2.txt\n",
      "Processed parsifal1.jpg -> parsifal1.txt\n",
      "Processed toverfluit2.jpg -> toverfluit2.txt\n",
      "Processed parsifal2.jpg -> parsifal2.txt\n",
      "Processed toverfluit1.jpg -> toverfluit1.txt\n",
      "Processed glimlach.jpg -> glimlach.txt\n",
      "Processed rigoletto1.jpg -> rigoletto1.txt\n",
      "Processed carmen.jpg -> carmen.txt\n",
      "Processed rigoletto2.jpg -> rigoletto2.txt\n",
      "Processed tosca.jpg -> tosca.txt\n",
      "Processed vogelhandelaar2.jpg -> vogelhandelaar2.txt\n",
      "Processed weduwe.jpg -> weduwe.txt\n",
      "Processed faust1.jpg -> faust1.txt\n",
      "Processed boheme.jpg -> boheme.txt\n",
      "Processed paljas.jpg -> paljas.txt\n",
      "Processed vogelhandelaar1.jpg -> vogelhandelaar1.txt\n",
      "Processed faust2.jpg -> faust2.txt\n",
      "Processed cavalleria.jpg -> cavalleria.txt\n"
     ]
    }
   ],
   "source": [
    "import os\n",
    "\n",
    "input_folder = \"scans\"\n",
    "output_folder = \"theme\"\n",
    "\n",
    "os.makedirs(output_folder, exist_ok=True)  # create output folder if it doesn't exist\n",
    "\n",
    "for filename in os.listdir(input_folder):\n",
    "    if filename.lower().endswith((\".jpg\")):\n",
    "        image_path = os.path.join(input_folder, filename)\n",
    "        text = pytesseract.image_to_string(Image.open(image_path))\n",
    "\n",
    "        base_name = os.path.splitext(filename)[0]\n",
    "        output_path = os.path.join(output_folder, base_name + \".txt\")\n",
    "\n",
    "        with open(output_path, \"w\", encoding=\"utf-8\") as f:\n",
    "            f.write(text)\n",
    "\n",
    "        print(f\"Processed {filename} -> {base_name}.txt\")\n"
   ]
  },
  {
   "cell_type": "code",
   "execution_count": null,
   "metadata": {},
   "outputs": [],
   "source": []
  }
 ],
 "metadata": {
  "kernelspec": {
   "display_name": "Python 3 (ipykernel)",
   "language": "python",
   "name": "python3"
  },
  "language_info": {
   "codemirror_mode": {
    "name": "ipython",
    "version": 3
   },
   "file_extension": ".py",
   "mimetype": "text/x-python",
   "name": "python",
   "nbconvert_exporter": "python",
   "pygments_lexer": "ipython3",
   "version": "3.9.13"
  }
 },
 "nbformat": 4,
 "nbformat_minor": 2
}
